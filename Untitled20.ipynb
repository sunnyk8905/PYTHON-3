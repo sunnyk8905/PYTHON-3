{
 "cells": [
  {
   "cell_type": "code",
   "execution_count": null,
   "id": "781b6401-b57d-46c5-bd3f-e10d52fd6151",
   "metadata": {},
   "outputs": [],
   "source": [
    "Q1).Which keyword is used to create a function ? Create a function to return a list of odd numbers in the \n",
    "    range of 1 to 25."
   ]
  },
  {
   "cell_type": "code",
   "execution_count": null,
   "id": "ea08c869-02ff-4e73-9e2f-152220b49642",
   "metadata": {},
   "outputs": [],
   "source": [
    "  def keyword is used to create a function."
   ]
  },
  {
   "cell_type": "code",
   "execution_count": 10,
   "id": "dd1ef76a-a573-4b81-931f-2ad943aee19e",
   "metadata": {},
   "outputs": [
    {
     "name": "stdout",
     "output_type": "stream",
     "text": [
      "[1, 3, 5, 7, 9, 11, 13, 15, 17, 19, 21, 23, 25]\n"
     ]
    }
   ],
   "source": [
    "def get_odd_numbers():\n",
    "    odd_numbers = []\n",
    "    for num in range(1, 26):\n",
    "        if num % 2 != 0:\n",
    "            odd_numbers.append(num)\n",
    "    return odd_numbers\n",
    "\n",
    "\n",
    "result = get_odd_numbers()\n",
    "print(result)\n"
   ]
  },
  {
   "cell_type": "code",
   "execution_count": null,
   "id": "3f935ff2-8d6e-460b-a01a-ae26a6d5c0dd",
   "metadata": {},
   "outputs": [],
   "source": [
    "Q2).Why *args and **kwargs is used in some functions? Create a function each for *args and **kwargs\n",
    "    to demostrate their use."
   ]
  },
  {
   "cell_type": "code",
   "execution_count": null,
   "id": "3270d319-0ae7-49f7-828d-e5cd627bcfe8",
   "metadata": {},
   "outputs": [],
   "source": [
    "The *args and **kwargs are special syntax in Python used to pass a variable number of arguments to a function."
   ]
  },
  {
   "cell_type": "code",
   "execution_count": 1,
   "id": "e84c8e9e-4457-471e-9980-c7d2b639325c",
   "metadata": {},
   "outputs": [],
   "source": [
    "def sum_numbers(*args):\n",
    "    total = 0\n",
    "    for num in args:\n",
    "        total += num\n",
    "    return total\n"
   ]
  },
  {
   "cell_type": "code",
   "execution_count": 2,
   "id": "b332a6ee-6734-47d9-b9c9-94b1dc67b1ad",
   "metadata": {},
   "outputs": [],
   "source": [
    "def print_person_details(**kwargs):\n",
    "    for key, value in kwargs.items():\n",
    "        print(key + \": \" + value)\n"
   ]
  },
  {
   "cell_type": "code",
   "execution_count": null,
   "id": "00f4f6e9-213c-4a9c-9912-f35802af6ff3",
   "metadata": {},
   "outputs": [],
   "source": [
    "Q3).  What is an iterator in python? Name the method used to initialise the iterator object and the method \n",
    "used for iteration. Use these methods to print the first five elements of the given list [2, 4, 6, 8, 10, 12, 14, \n",
    "16, 18, 20]."
   ]
  },
  {
   "cell_type": "code",
   "execution_count": null,
   "id": "dbcc61ac-a92c-4afd-b2d9-611eda250ffb",
   "metadata": {},
   "outputs": [],
   "source": [
    " an iterator is an object that implements the iterator protocol, which consists of two methods: __iter__() and __next__().\n",
    "\n",
    "The __iter__() method is used to initialize the iterator object. It returns the iterator object itself and is called when you want to iterate over an iterable object.\n",
    "\n",
    "The __next__() method is used for iteration. It returns the next element from the iterator. If there are no more elements, it raises the StopIteration exception.\n",
    " "
   ]
  },
  {
   "cell_type": "code",
   "execution_count": 5,
   "id": "a47bf8a2-c266-444f-acd7-129c480d8765",
   "metadata": {},
   "outputs": [],
   "source": [
    "class MyIterator:\n",
    "    def __init__(self, data):\n",
    "        self.data = data\n",
    "        self.index = 0\n",
    "    \n",
    "    def __iter__(self):\n",
    "        return self\n",
    "    \n",
    "    def __next__(self):\n",
    "        if self.index >= len(self.data):\n",
    "            raise StopIteration\n",
    "        element = self.data[self.index]\n",
    "        self.index += 1\n",
    "        return element\n"
   ]
  },
  {
   "cell_type": "code",
   "execution_count": 6,
   "id": "d94fc9fc-7c71-4bde-919a-b315ceae7825",
   "metadata": {},
   "outputs": [
    {
     "name": "stdout",
     "output_type": "stream",
     "text": [
      "2\n",
      "4\n",
      "6\n",
      "8\n",
      "10\n"
     ]
    }
   ],
   "source": [
    "my_list = [2, 4, 6, 8, 10, 12, 14, 16, 18, 20]\n",
    "my_iterator = MyIterator(my_list)\n",
    "\n",
    "for _ in range(5):\n",
    "    print(next(my_iterator))\n"
   ]
  },
  {
   "cell_type": "code",
   "execution_count": null,
   "id": "c62e0628-8721-48c1-883b-4ac6a23d1311",
   "metadata": {},
   "outputs": [],
   "source": [
    "Q4).  What is a generator function in python? Why yield keyword is used? Give an example of a generator \n",
    "function."
   ]
  },
  {
   "cell_type": "code",
   "execution_count": null,
   "id": "423bd1fb-cd70-4cbc-b7dd-4a33a23d9004",
   "metadata": {},
   "outputs": [],
   "source": [
    "A generator function is a special type of function that generates a sequence of values using the yield keyword. "
   ]
  },
  {
   "cell_type": "code",
   "execution_count": null,
   "id": "994beb3b-3568-4755-80bf-cd69b1d4a0d9",
   "metadata": {},
   "outputs": [],
   "source": [
    "The yield keyword is used in generator functions to specify a value to be yielded or returned to the caller. "
   ]
  },
  {
   "cell_type": "code",
   "execution_count": 7,
   "id": "efb43e56-f40d-46c3-9f0e-68d7888e55b9",
   "metadata": {},
   "outputs": [],
   "source": [
    "def squares_generator(n):\n",
    "    for i in range(n):\n",
    "        yield i ** 2\n"
   ]
  },
  {
   "cell_type": "code",
   "execution_count": 8,
   "id": "d621e927-e498-46ff-9c6e-21c92a2b9a2d",
   "metadata": {},
   "outputs": [
    {
     "name": "stdout",
     "output_type": "stream",
     "text": [
      "0\n",
      "1\n",
      "4\n",
      "9\n",
      "16\n"
     ]
    }
   ],
   "source": [
    "squares = squares_generator(5)\n",
    "\n",
    "for square in squares:\n",
    "    print(square)\n"
   ]
  },
  {
   "cell_type": "code",
   "execution_count": null,
   "id": "e01b2dad-ad98-4097-9ed7-7bbf97c56119",
   "metadata": {},
   "outputs": [],
   "source": [
    "Q5). Create a generator function for prime numbers less than 1000. Use the next() method to print the \n",
    "first 20 prime numbers."
   ]
  },
  {
   "cell_type": "code",
   "execution_count": 9,
   "id": "870d45fe-f681-4ffc-872a-c6aaa1a7bd6c",
   "metadata": {},
   "outputs": [],
   "source": [
    "def primes_generator():\n",
    "    primes = []\n",
    "    num = 2\n",
    "    while True:\n",
    "        is_prime = True\n",
    "        for prime in primes:\n",
    "            if num % prime == 0:\n",
    "                is_prime = False\n",
    "                break\n",
    "        if is_prime:\n",
    "            primes.append(num)\n",
    "            yield num\n",
    "        num += 1\n"
   ]
  },
  {
   "cell_type": "code",
   "execution_count": 10,
   "id": "01387f02-4c02-41e1-a7f8-4f2780a4327c",
   "metadata": {},
   "outputs": [
    {
     "name": "stdout",
     "output_type": "stream",
     "text": [
      "2\n",
      "3\n",
      "5\n",
      "7\n",
      "11\n",
      "13\n",
      "17\n",
      "19\n",
      "23\n",
      "29\n",
      "31\n",
      "37\n",
      "41\n",
      "43\n",
      "47\n",
      "53\n",
      "59\n",
      "61\n",
      "67\n",
      "71\n"
     ]
    }
   ],
   "source": [
    "primes = primes_generator()\n",
    "\n",
    "for _ in range(20):\n",
    "    print(next(primes))\n"
   ]
  },
  {
   "cell_type": "code",
   "execution_count": null,
   "id": "dc1838f8-dbb3-4c5e-aeb1-aa792bcae666",
   "metadata": {},
   "outputs": [],
   "source": [
    "Q6). Write a python program to print the first 10 Fibonacci numbers using a while loop."
   ]
  },
  {
   "cell_type": "code",
   "execution_count": 11,
   "id": "aaf02252-49f0-4cc3-905c-64758a3e18ac",
   "metadata": {},
   "outputs": [
    {
     "name": "stdout",
     "output_type": "stream",
     "text": [
      "0\n",
      "1\n",
      "1\n",
      "2\n",
      "3\n",
      "5\n",
      "8\n",
      "13\n",
      "21\n",
      "34\n"
     ]
    }
   ],
   "source": [
    "def fibonacci_sequence(n):\n",
    "    sequence = []\n",
    "    a, b = 0, 1\n",
    "    count = 0\n",
    "    while count < n:\n",
    "        sequence.append(a)\n",
    "        a, b = b, a + b\n",
    "        count += 1\n",
    "    return sequence\n",
    "\n",
    "fibonacci_numbers = fibonacci_sequence(10)\n",
    "\n",
    "for num in fibonacci_numbers:\n",
    "    print(num)\n"
   ]
  },
  {
   "cell_type": "code",
   "execution_count": null,
   "id": "dee25b81-ebb6-4bde-92d5-e83bc18a224c",
   "metadata": {},
   "outputs": [],
   "source": [
    "Q7. Write a List Comprehension to iterate through the given string: ‘pwskills’.\n",
    "\n",
    "Expected output: ['p', 'w', 's', 'k', 'i', 'l', 'l', 's'] "
   ]
  },
  {
   "cell_type": "code",
   "execution_count": 12,
   "id": "a80d87a2-e9d2-4d02-9eeb-d2570e7a7778",
   "metadata": {},
   "outputs": [
    {
     "name": "stdout",
     "output_type": "stream",
     "text": [
      "['p', 'w', 's', 'k', 'i', 'l', 'l', 's']\n"
     ]
    }
   ],
   "source": [
    "string = 'pwskills'\n",
    "result = [char for char in string]\n",
    "\n",
    "print(result)\n"
   ]
  },
  {
   "cell_type": "code",
   "execution_count": null,
   "id": "056d6cc2-d1c5-4af1-9277-d29e2108b367",
   "metadata": {},
   "outputs": [],
   "source": [
    "Q8. Write a python program to check whether a given number is Palindrome or not using a while loop."
   ]
  },
  {
   "cell_type": "code",
   "execution_count": 13,
   "id": "07d44994-71b7-4252-90c4-7ba1d8bcd033",
   "metadata": {},
   "outputs": [
    {
     "name": "stdout",
     "output_type": "stream",
     "text": [
      "12321 is a palindrome\n"
     ]
    }
   ],
   "source": [
    "def is_palindrome(number):\n",
    "    original_number = number\n",
    "    reverse = 0\n",
    "    while number > 0:\n",
    "        digit = number % 10\n",
    "        reverse = reverse * 10 + digit\n",
    "        number //= 10\n",
    "    if original_number == reverse:\n",
    "        return True\n",
    "    else:\n",
    "        return False\n",
    "\n",
    "# Example usage\n",
    "number = 12321\n",
    "if is_palindrome(number):\n",
    "    print(f\"{number} is a palindrome\")\n",
    "else:\n",
    "    print(f\"{number} is not a palindrome\")\n"
   ]
  },
  {
   "cell_type": "code",
   "execution_count": null,
   "id": "47f5a1ec-56f9-450f-b1b9-fbcca0bcf6fe",
   "metadata": {},
   "outputs": [],
   "source": [
    "Q9. Write a code to print odd numbers from 1 to 100 using list comprehension."
   ]
  },
  {
   "cell_type": "code",
   "execution_count": 14,
   "id": "c22cf19f-44a0-431b-8ab1-397ffa2df761",
   "metadata": {},
   "outputs": [
    {
     "name": "stdout",
     "output_type": "stream",
     "text": [
      "[1, 3, 5, 7, 9, 11, 13, 15, 17, 19, 21, 23, 25, 27, 29, 31, 33, 35, 37, 39, 41, 43, 45, 47, 49, 51, 53, 55, 57, 59, 61, 63, 65, 67, 69, 71, 73, 75, 77, 79, 81, 83, 85, 87, 89, 91, 93, 95, 97, 99]\n"
     ]
    }
   ],
   "source": [
    "odd_numbers = [num for num in range(1, 100) if num % 2 != 0]\n",
    "\n",
    "print(odd_numbers)\n"
   ]
  },
  {
   "cell_type": "code",
   "execution_count": null,
   "id": "8851fef4-6465-43b9-a2cf-c6c59c8c2dff",
   "metadata": {},
   "outputs": [],
   "source": []
  }
 ],
 "metadata": {
  "kernelspec": {
   "display_name": "Python 3 (ipykernel)",
   "language": "python",
   "name": "python3"
  },
  "language_info": {
   "codemirror_mode": {
    "name": "ipython",
    "version": 3
   },
   "file_extension": ".py",
   "mimetype": "text/x-python",
   "name": "python",
   "nbconvert_exporter": "python",
   "pygments_lexer": "ipython3",
   "version": "3.10.8"
  }
 },
 "nbformat": 4,
 "nbformat_minor": 5
}
